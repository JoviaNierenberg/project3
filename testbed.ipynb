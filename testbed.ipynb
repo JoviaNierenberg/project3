{
 "cells": [
  {
   "cell_type": "code",
   "execution_count": 159,
   "id": "73722d5d",
   "metadata": {},
   "outputs": [
    {
     "name": "stdout",
     "output_type": "stream",
     "text": [
      "[[0. 5. 0. 5.]\n",
      " [5. 0. 1. 2.]\n",
      " [0. 1. 0. 4.]\n",
      " [5. 2. 4. 0.]]\n",
      "[[0. 5. 0. 0.]\n",
      " [5. 0. 0. 0.]\n",
      " [0. 0. 0. 0.]\n",
      " [0. 0. 0. 0.]]\n",
      "[[0. 5. 0. 0.]\n",
      " [5. 0. 1. 0.]\n",
      " [0. 1. 0. 0.]\n",
      " [0. 0. 0. 0.]]\n",
      "[[0. 5. 0. 0.]\n",
      " [5. 0. 1. 2.]\n",
      " [0. 1. 0. 0.]\n",
      " [0. 2. 0. 0.]]\n"
     ]
    }
   ],
   "source": [
    "import numpy as np\n",
    "import heapq\n",
    "from typing import Union\n",
    "from sklearn.metrics import pairwise_distances\n",
    "\n",
    "class Graph:\n",
    "    def __init__(self, adjacency_mat: Union[np.ndarray, str]):\n",
    "        \"\"\" Unlike project 2, this Graph class takes an adjacency matrix as input. `adjacency_mat` \n",
    "        can either be a 2D numpy array of floats or the path to a CSV file containing a 2D numpy array of floats.\n",
    "\n",
    "        In this project, we will assume `adjacency_mat` corresponds to the adjacency matrix of an undirected graph\n",
    "        \"\"\"\n",
    "        if type(adjacency_mat) == str:\n",
    "            self.adj_mat = self._load_adjacency_matrix_from_csv(adjacency_mat)\n",
    "        elif type(adjacency_mat) == np.ndarray:\n",
    "            self.adj_mat = adjacency_mat\n",
    "        else: \n",
    "            raise TypeError('Input must be a valid path or an adjacency matrix')\n",
    "        self.mst = None\n",
    "\n",
    "    def _load_adjacency_matrix_from_csv(self, path: str) -> np.ndarray:\n",
    "        with open(path) as f:\n",
    "            return np.loadtxt(f, delimiter=',')\n",
    "\n",
    "    def construct_mst(self):\n",
    "        \"\"\" Given `self.adj_mat`, the adjacency matrix of a connected undirected graph, implement Prim's \n",
    "        algorithm to construct an adjacency matrix encoding the minimum spanning tree of `self.adj_mat`. \n",
    "            \n",
    "        `self.adj_mat` is a 2D numpy array of floats. \n",
    "        Note that because we assume our input graph is undirected, `self.adj_mat` is symmetric. \n",
    "        Row i and column j represents the edge weight between vertex i and vertex j. An edge weight of zero indicates that no edge exists. \n",
    "        \n",
    "        TODO: \n",
    "            This function does not return anything. Instead, store the adjacency matrix \n",
    "        representation of the minimum spanning tree of `self.adj_mat` in `self.mst`.\n",
    "        We highly encourage the use of priority queues in your implementation. See the heapq\n",
    "        module, particularly the `heapify`, `heappop`, and `heappush` functions.\n",
    "        \"\"\"\n",
    "        print(self.adj_mat)\n",
    "        # determine number of nodes, initialize mst as numpy array of zeros connecting all nodes\n",
    "        num_nodes = np.shape(self.adj_mat)[1]\n",
    "        self.mst = np.zeros(self.adj_mat.shape)\n",
    "        \n",
    "        # initialize a tree with a vertex closen arbitrarily from the graph\n",
    "        vertices = list(range(num_nodes)) # create list with range of vertex numbers \n",
    "        curr_vertex = vertices[0]\n",
    "        #curr_vertex = vertices.pop(0)  # determines current vertex and removes it from the list of remaining vertices\n",
    "        visited_vertices = {curr_vertex}\n",
    "        \n",
    "        # store outgoing edges from visited_vertices as tuples in a priority queue, remove zeros\n",
    "        outgoing_edges_with_zeros = list(self.adj_mat[1:num_nodes,curr_vertex])\n",
    "        curr_vertex_list = [curr_vertex] * len(outgoing_edges_with_zeros)\n",
    "        outgoing_edges_zip = list(zip(outgoing_edges_with_zeros, curr_vertex_list, vertices[1:]))\n",
    "        outgoing_edges = [i for i in outgoing_edges_zip if i[0]!=0] # keep non-zero edges\n",
    "        heapq.heapify(outgoing_edges)   \n",
    "        \n",
    "        # grow the tree by adding the minimum weight edge to a vertex not in the tree\n",
    "        while(outgoing_edges):\n",
    "            # determine lowest weighted edge and corresponding neighbor node\n",
    "            lowest_weight_edge = heapq.heappop(outgoing_edges) # removes lowest weight edge from queue\n",
    "            \n",
    "            # if destination vertex isn't in vistited_vertices\n",
    "            if lowest_weight_edge[2] not in visited_vertices:\n",
    "                # Add this edge to our MST and add vertex to visited\n",
    "                self.mst[lowest_weight_edge[1], lowest_weight_edge[2]] = lowest_weight_edge[0]\n",
    "                self.mst[lowest_weight_edge[2], lowest_weight_edge[1]] = lowest_weight_edge[0]\n",
    "                visited_vertices.add(lowest_weight_edge[2]) # Add the destination to visited_vertices\n",
    "                # Add all outgoing edges from visited_vertices to our priority queue\n",
    "                vertices_wo_current = [x for x in vertices if x!=curr_vertex] # vertices without current\n",
    "                curr_vertex = lowest_weight_edge[2] # reset current vertex\n",
    "                outgoing_edges_with_zeros = list(self.adj_mat[:,curr_vertex])\n",
    "                outgoing_edges_with_zeros.pop(lowest_weight_edge[1]) # remove edge that led to this node from the other side  \n",
    "                curr_vertex_list = [curr_vertex] * len(outgoing_edges_with_zeros)\n",
    "                outgoing_edges_zip = list(zip(outgoing_edges_with_zeros, curr_vertex_list, vertices_wo_current)) \n",
    "                outgoing_edges_add = [i for i in outgoing_edges_zip if i[0]!=0] # keep non-zero edges\n",
    "                for edge in outgoing_edges_add:\n",
    "                    heapq.heappush(outgoing_edges, edge)\n",
    "                print(self.mst)\n",
    "        \n",
    "\n",
    "small_graph = Graph(\"data/small.csv\")\n",
    "g=small_graph.construct_mst()\n",
    "\n"
   ]
  },
  {
   "cell_type": "code",
   "execution_count": 35,
   "id": "24fe6c41",
   "metadata": {},
   "outputs": [
    {
     "name": "stdout",
     "output_type": "stream",
     "text": [
      "0\n"
     ]
    }
   ],
   "source": [
    "animals = ['dog', 'cat', 'dog', 'rabbit', 'dog', 'horse']\n",
    "\n",
    "# get the index of 'dog'\n",
    "index = animals.index('dog')\n",
    "\n",
    "\n",
    "print(index)\n"
   ]
  },
  {
   "cell_type": "code",
   "execution_count": 45,
   "id": "5b2e3e54",
   "metadata": {},
   "outputs": [
    {
     "data": {
      "text/plain": [
       "array([[0., 0., 0., 0.],\n",
       "       [0., 0., 0., 0.],\n",
       "       [0., 0., 0., 0.],\n",
       "       [0., 0., 0., 0.]])"
      ]
     },
     "execution_count": 45,
     "metadata": {},
     "output_type": "execute_result"
    }
   ],
   "source": [
    "numpy.zeros((4,4))"
   ]
  },
  {
   "cell_type": "code",
   "execution_count": null,
   "id": "09a6f9a4",
   "metadata": {},
   "outputs": [],
   "source": [
    "file_path = './data/slingshot_example.txt'\n",
    "# load coordinates of single cells in low-dimensional subspace\n",
    "coords = np.loadtxt(file_path)\n",
    "# compute pairwise distances for all 140 cells to form an undirected weighted graph\n",
    "dist_mat = pairwise_distances(coords)  \n",
    "#sub_dist_mat = dist_mat[0:5,0:5]\n",
    "\n",
    "g = Graph(dist_mat)\n",
    "g.construct_mst()\n"
   ]
  },
  {
   "cell_type": "code",
   "execution_count": 139,
   "id": "a5cf1af3",
   "metadata": {},
   "outputs": [
    {
     "data": {
      "text/plain": [
       "[0, 1, 2, 3]"
      ]
     },
     "execution_count": 139,
     "metadata": {},
     "output_type": "execute_result"
    }
   ],
   "source": [
    "list(range(4))"
   ]
  },
  {
   "cell_type": "code",
   "execution_count": null,
   "id": "29167b5a",
   "metadata": {},
   "outputs": [],
   "source": []
  }
 ],
 "metadata": {
  "kernelspec": {
   "display_name": "Python 3",
   "language": "python",
   "name": "python3"
  },
  "language_info": {
   "codemirror_mode": {
    "name": "ipython",
    "version": 3
   },
   "file_extension": ".py",
   "mimetype": "text/x-python",
   "name": "python",
   "nbconvert_exporter": "python",
   "pygments_lexer": "ipython3",
   "version": "3.8.5"
  }
 },
 "nbformat": 4,
 "nbformat_minor": 5
}
