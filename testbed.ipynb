{
 "cells": [
  {
   "cell_type": "code",
   "execution_count": 52,
   "id": "8e9bce44",
   "metadata": {},
   "outputs": [
    {
     "name": "stdout",
     "output_type": "stream",
     "text": [
      "[[0. 5. 0. 5.]\n",
      " [5. 0. 1. 2.]\n",
      " [0. 1. 0. 4.]\n",
      " [5. 2. 4. 0.]]\n",
      "in while loop\n",
      "[5.0, 5.0]\n",
      "5.0\n",
      "1\n",
      "not in list\n",
      "[0, 1]\n",
      "[[0. 5. 0. 0.]\n",
      " [5. 0. 0. 0.]\n",
      " [0. 0. 0. 0.]\n",
      " [0. 0. 0. 0.]]\n",
      "[]\n"
     ]
    }
   ],
   "source": [
    "import numpy as np\n",
    "import heapq\n",
    "from typing import Union\n",
    "\n",
    "class Graph:\n",
    "    def __init__(self, adjacency_mat: Union[np.ndarray, str]):\n",
    "        \"\"\" Unlike project 2, this Graph class takes an adjacency matrix as input. `adjacency_mat` \n",
    "        can either be a 2D numpy array of floats or the path to a CSV file containing a 2D numpy array of floats.\n",
    "\n",
    "        In this project, we will assume `adjacency_mat` corresponds to the adjacency matrix of an undirected graph\n",
    "        \"\"\"\n",
    "        if type(adjacency_mat) == str:\n",
    "            self.adj_mat = self._load_adjacency_matrix_from_csv(adjacency_mat)\n",
    "        elif type(adjacency_mat) == np.ndarray:\n",
    "            self.adj_mat = adjacency_mat\n",
    "        else: \n",
    "            raise TypeError('Input must be a valid path or an adjacency matrix')\n",
    "        self.mst = None\n",
    "\n",
    "    def _load_adjacency_matrix_from_csv(self, path: str) -> np.ndarray:\n",
    "        with open(path) as f:\n",
    "            return np.loadtxt(f, delimiter=',')\n",
    "\n",
    "    def construct_mst(self):\n",
    "        \"\"\" Given `self.adj_mat`, the adjacency matrix of a connected undirected graph, implement Prim's \n",
    "        algorithm to construct an adjacency matrix encoding the minimum spanning tree of `self.adj_mat`. \n",
    "            \n",
    "        `self.adj_mat` is a 2D numpy array of floats. \n",
    "        Note that because we assume our input graph is undirected, `self.adj_mat` is symmetric. \n",
    "        Row i and column j represents the edge weight between vertex i and vertex j. An edge weight of zero indicates that no edge exists. \n",
    "        \n",
    "        TODO: \n",
    "            This function does not return anything. Instead, store the adjacency matrix \n",
    "        representation of the minimum spanning tree of `self.adj_mat` in `self.mst`.\n",
    "        We highly encourage the use of priority queues in your implementation. See the heapq\n",
    "        module, particularly the `heapify`, `heappop`, and `heappush` functions.\n",
    "        \"\"\"\n",
    "        print(self.adj_mat) ################\n",
    "        \n",
    "        # determine number of nodes, initialize mst as numpy array of zeros connecting all nodes\n",
    "        self.num_nodes = np.shape(self.adj_mat)[1]\n",
    "        self.mst = numpy.zeros((self.num_nodes, self.num_nodes))\n",
    "        \n",
    "        # initialize a tree with a vertex closen arbitrarily from the graph\n",
    "        self.vertices = [*range(self.num_nodes)] # create list with range of vertex numbers \n",
    "        self.smallest_vertex = heapq.heappop(self.vertices)\n",
    "        self.visted_vertices = [self.smallest_vertex]\n",
    "        heapq.heapify(self.visted_vertices)\n",
    "        \n",
    "        # store outgoing edges from visited_vertices in a priority queue, remove zeros\n",
    "        self.curr_outgoing_edges_with_zeros = list(self.adj_mat[:,self.smallest_vertex])\n",
    "        self.curr_outgoing_edges = [i for i in self.outgoing_edges_with_zeros if i!=0]\n",
    "        self.outgoing_edges = self.first_outgoing_edges\n",
    "        heapq.heapify(self.outgoing_edges)\n",
    "        \n",
    "        # grow the tree by adding the minimum weight edge to a vertex not in the tree\n",
    "        while(self.outgoing_edges):\n",
    "            # determine lowest weighted edge and corresponding neighbor node\n",
    "            print(\"in while loop\")\n",
    "            print(self.outgoing_edges)\n",
    "            self.lowest_weight_edge = heapq.heappop(self.outgoing_edges) # removes lowest weight edge from queue\n",
    "            print(self.lowest_weight_edge)\n",
    "            self.neighbor_with_lowest_edge = self.outgoing_edges_with_zeros.index(self.lowest_weight_edge)\n",
    "            print(self.neighbor_with_lowest_edge)\n",
    "            \n",
    "            # if destination vertex isn't in vistited_vertices\n",
    "            if self.neighbor_with_lowest_edge not in self.visted_vertices:\n",
    "                print(\"not in list\")\n",
    "                # Add this edge to our MST\n",
    "                self.mst[self.smallest_vertex, self.neighbor_with_lowest_edge] = self.lowest_weight_edge \n",
    "                self.mst[self.neighbor_with_lowest_edge, self.smallest_vertex] = self.lowest_weight_edge \n",
    "                # Add the destination to visited_vertices\n",
    "                heapq.heappush(self.visted_vertices, self.neighbor_with_lowest_edge) \n",
    "                # Add all outgoing edges from visited_vertices to our priority queue\n",
    "                \n",
    "                print(self.visted_vertices)\n",
    "                print(self.mst)\n",
    "\n",
    "            heapq.heappop(self.outgoing_edges) ############# right now doing this so that the loop isn't infinite\n",
    "            print(self.outgoing_edges) ###############\n",
    "        # repeat\n",
    "        \n",
    "\n",
    "\n",
    "small_graph = Graph(\"data/small.csv\")\n",
    "g=small_graph.construct_mst()\n",
    "#type(g)\n"
   ]
  },
  {
   "cell_type": "code",
   "execution_count": 35,
   "id": "3ab95206",
   "metadata": {},
   "outputs": [
    {
     "name": "stdout",
     "output_type": "stream",
     "text": [
      "0\n"
     ]
    }
   ],
   "source": [
    "animals = ['dog', 'cat', 'dog', 'rabbit', 'dog', 'horse']\n",
    "\n",
    "# get the index of 'dog'\n",
    "index = animals.index('dog')\n",
    "\n",
    "\n",
    "print(index)\n"
   ]
  },
  {
   "cell_type": "code",
   "execution_count": 45,
   "id": "a443c621",
   "metadata": {},
   "outputs": [
    {
     "data": {
      "text/plain": [
       "array([[0., 0., 0., 0.],\n",
       "       [0., 0., 0., 0.],\n",
       "       [0., 0., 0., 0.],\n",
       "       [0., 0., 0., 0.]])"
      ]
     },
     "execution_count": 45,
     "metadata": {},
     "output_type": "execute_result"
    }
   ],
   "source": [
    "numpy.zeros((4,4))"
   ]
  },
  {
   "cell_type": "code",
   "execution_count": null,
   "id": "f1791797",
   "metadata": {},
   "outputs": [],
   "source": []
  }
 ],
 "metadata": {
  "kernelspec": {
   "display_name": "Python 3",
   "language": "python",
   "name": "python3"
  },
  "language_info": {
   "codemirror_mode": {
    "name": "ipython",
    "version": 3
   },
   "file_extension": ".py",
   "mimetype": "text/x-python",
   "name": "python",
   "nbconvert_exporter": "python",
   "pygments_lexer": "ipython3",
   "version": "3.8.5"
  }
 },
 "nbformat": 4,
 "nbformat_minor": 5
}
